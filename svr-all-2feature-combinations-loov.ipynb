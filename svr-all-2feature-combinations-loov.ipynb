{
 "cells": [
  {
   "cell_type": "code",
   "execution_count": 1,
   "id": "b595ee39",
   "metadata": {
    "_cell_guid": "b1076dfc-b9ad-4769-8c92-a6c4dae69d19",
    "_uuid": "8f2839f25d086af736a60e9eeb907d3b93b6e0e5",
    "execution": {
     "iopub.execute_input": "2024-12-09T23:30:31.915870Z",
     "iopub.status.busy": "2024-12-09T23:30:31.915464Z",
     "iopub.status.idle": "2024-12-09T23:30:34.525592Z",
     "shell.execute_reply": "2024-12-09T23:30:34.524566Z"
    },
    "papermill": {
     "duration": 2.617587,
     "end_time": "2024-12-09T23:30:34.528144",
     "exception": false,
     "start_time": "2024-12-09T23:30:31.910557",
     "status": "completed"
    },
    "tags": []
   },
   "outputs": [
    {
     "name": "stdout",
     "output_type": "stream",
     "text": [
      "/kaggle/input/oligomer-photostability-and-computed-properties/OligomerFeatures.csv\n"
     ]
    }
   ],
   "source": [
    "# This Python 3 environment comes with many helpful analytics libraries installed\n",
    "# It is defined by the kaggle/python Docker image: https://github.com/kaggle/docker-python\n",
    "# For example, here's several helpful packages to load\n",
    "\n",
    "import numpy as np # linear algebra\n",
    "import pandas as pd # data processing, CSV file I/O (e.g. pd.read_csv)\n",
    "\n",
    "# Input data files are available in the read-only \"../input/\" directory\n",
    "# For example, running this (by clicking run or pressing Shift+Enter) will list all files under the input directory\n",
    "\n",
    "import os\n",
    "for dirname, _, filenames in os.walk('/kaggle/input'):\n",
    "    for filename in filenames:\n",
    "        print(os.path.join(dirname, filename))\n",
    "\n",
    "import matplotlib.pyplot as plt\n",
    "from sklearn.preprocessing import StandardScaler\n",
    "from sklearn.model_selection import train_test_split\n",
    "from sklearn.svm import SVR\n",
    "from sklearn.metrics import mean_squared_error, r2_score\n",
    "import warnings\n",
    "warnings.filterwarnings(\"ignore\") #The svr.predict always produces a warning.\n",
    "\n",
    "# You can write up to 20GB to the current directory (/kaggle/working/) that gets preserved as output when you create a version using \"Save & Run All\" \n",
    "# You can also write temporary files to /kaggle/temp/, but they won't be saved outside of the current session"
   ]
  },
  {
   "cell_type": "code",
   "execution_count": 2,
   "id": "6b8593ab",
   "metadata": {
    "execution": {
     "iopub.execute_input": "2024-12-09T23:30:34.537030Z",
     "iopub.status.busy": "2024-12-09T23:30:34.536441Z",
     "iopub.status.idle": "2024-12-09T23:30:34.800572Z",
     "shell.execute_reply": "2024-12-09T23:30:34.799297Z"
    },
    "papermill": {
     "duration": 0.271295,
     "end_time": "2024-12-09T23:30:34.803046",
     "exception": false,
     "start_time": "2024-12-09T23:30:34.531751",
     "status": "completed"
    },
    "tags": []
   },
   "outputs": [],
   "source": [
    "df = pd.read_csv(\"/kaggle/input/oligomer-photostability-and-computed-properties/OligomerFeatures.csv\")\n",
    "molecs = 40 #molecules with T80 values are listed at top of .csv\n",
    "data_labels = np.array(df.columns.values[8:12]) #considering only the first 4 features to run quickly\n",
    "all_features = np.array(df.iloc[:molecs,8:12])\n",
    "T80 = np.array(df.iloc[:molecs,6])\n",
    "\n",
    "#Scale X to unit variance and zero mean\n",
    "st = StandardScaler()\n",
    "X = st.fit_transform(all_features)\n",
    "feats = X.shape[1]\n",
    "y = T80"
   ]
  },
  {
   "cell_type": "code",
   "execution_count": 3,
   "id": "df729044",
   "metadata": {
    "execution": {
     "iopub.execute_input": "2024-12-09T23:30:34.810718Z",
     "iopub.status.busy": "2024-12-09T23:30:34.810286Z",
     "iopub.status.idle": "2024-12-09T23:30:34.817300Z",
     "shell.execute_reply": "2024-12-09T23:30:34.815964Z"
    },
    "papermill": {
     "duration": 0.013604,
     "end_time": "2024-12-09T23:30:34.819665",
     "exception": false,
     "start_time": "2024-12-09T23:30:34.806061",
     "status": "completed"
    },
    "tags": []
   },
   "outputs": [],
   "source": [
    "#Prep SVR Parameteres\n",
    "C_reg = np.array([10,100,1000]) #reg. strength = 1/C_reg\n",
    "#epsilon = np.array([0.1]) #points within this tube don't contribute to loss function\n",
    "\n",
    "#Prep arrays\n",
    "C_regs = C_reg.shape[0]\n",
    "MSEs = np.zeros(C_regs)\n",
    "R2s = np.zeros(C_regs)\n",
    "top_y_pred = np.zeros((feats**2,molecs))\n",
    "top_C_reg = np.zeros(feats**2)\n",
    "top_R2s = np.zeros(feats**2)\n",
    "out = \"FeatA,FeatB,LOOV_R2,Creg\\n\"\n",
    "All_R2s = np.zeros((feats,feats),dtype=float)"
   ]
  },
  {
   "cell_type": "code",
   "execution_count": 4,
   "id": "d74bc35e",
   "metadata": {
    "execution": {
     "iopub.execute_input": "2024-12-09T23:30:34.826840Z",
     "iopub.status.busy": "2024-12-09T23:30:34.826419Z",
     "iopub.status.idle": "2024-12-09T23:30:35.770748Z",
     "shell.execute_reply": "2024-12-09T23:30:35.769584Z"
    },
    "papermill": {
     "duration": 0.950836,
     "end_time": "2024-12-09T23:30:35.773255",
     "exception": false,
     "start_time": "2024-12-09T23:30:34.822419",
     "status": "completed"
    },
    "tags": []
   },
   "outputs": [],
   "source": [
    "#Divide into train and test set for Leave One Out Validation with 2 Features per model\n",
    "for k in range(feats):\n",
    "    for l in range(k+1, feats):\n",
    "        y_pred = np.zeros((C_regs, molecs))\n",
    "        del_feats = np.arange(0, feats, dtype=int)\n",
    "        del_feats = np.delete(del_feats, l, 0)\n",
    "        del_feats = np.delete(del_feats, k, 0)\n",
    "        X_temp = np.delete(X, del_feats, 1) #only 2 features\n",
    "        for j in range(C_regs):\n",
    "            for i in range(molecs):\n",
    "                X_train = np.delete(X_temp,i,0)\n",
    "                X_test = X_temp[i].reshape(1,-1)\n",
    "                y_train = np.delete(y,i,0)\n",
    "                \n",
    "                svr = SVR(kernel=\"rbf\", C=C_reg[j])\n",
    "                svr.fit(X_train,y_train)\n",
    "                #print(X_test)\n",
    "                y_pred[j,i] = svr.predict(X_test) #gives NumPy Deprecation Warning\n",
    "            MSEs[j] = mean_squared_error(y,y_pred[j])\n",
    "            R2s[j]  = r2_score(y,y_pred[j])\n",
    "        \n",
    "        #Pick best model\n",
    "        bestC = 0\n",
    "        for i in range(len(MSEs)):\n",
    "            if MSEs[i] < MSEs[bestC]:\n",
    "                bestC = i\n",
    "\n",
    "        top_y_pred[k*feats+l] = y_pred[bestC]\n",
    "        top_C_reg[k*feats+l] = C_reg[bestC]\n",
    "        top_R2s[k*feats+l] = R2s[bestC]\n",
    "        All_R2s[k,l] = R2s[bestC]\n",
    "\n",
    "        #print(\"{},{}, R2={:.2f}, Creg={:.0f}\".format(data_labels[k],data_labels[l],R2s[bestC],C_reg[bestC]))\n",
    "        out += \"{},{},{:.4f},{:.0f}\\n\".format(data_labels[k],data_labels[l],R2s[bestC],C_reg[bestC])"
   ]
  },
  {
   "cell_type": "code",
   "execution_count": 5,
   "id": "129800a5",
   "metadata": {
    "execution": {
     "iopub.execute_input": "2024-12-09T23:30:35.782648Z",
     "iopub.status.busy": "2024-12-09T23:30:35.782031Z",
     "iopub.status.idle": "2024-12-09T23:30:35.789764Z",
     "shell.execute_reply": "2024-12-09T23:30:35.788307Z"
    },
    "papermill": {
     "duration": 0.015552,
     "end_time": "2024-12-09T23:30:35.792432",
     "exception": false,
     "start_time": "2024-12-09T23:30:35.776880",
     "status": "completed"
    },
    "tags": []
   },
   "outputs": [
    {
     "name": "stdout",
     "output_type": "stream",
     "text": [
      "Best Model is Mass + HDonors. R2 = 0.46\n"
     ]
    }
   ],
   "source": [
    "#find the best features\n",
    "bestF = np.argmax(top_R2s)\n",
    "bestFeatA = int(np.floor(bestF/feats))\n",
    "bestFeatB = bestF%feats\n",
    "\n",
    "print(\"Best Model is {} + {}. R2 = {:.2f}\".format(data_labels[bestFeatA],data_labels[bestFeatB],np.amax(top_R2s)))\n"
   ]
  },
  {
   "cell_type": "markdown",
   "id": "2302ce99",
   "metadata": {
    "papermill": {
     "duration": 0.003059,
     "end_time": "2024-12-09T23:30:35.798303",
     "exception": false,
     "start_time": "2024-12-09T23:30:35.795244",
     "status": "completed"
    },
    "tags": []
   },
   "source": [
    "The \"out\" variable contains all results if you want to save all data to a csv."
   ]
  },
  {
   "cell_type": "code",
   "execution_count": 6,
   "id": "276ec1f0",
   "metadata": {
    "execution": {
     "iopub.execute_input": "2024-12-09T23:30:35.806474Z",
     "iopub.status.busy": "2024-12-09T23:30:35.805969Z",
     "iopub.status.idle": "2024-12-09T23:30:35.812339Z",
     "shell.execute_reply": "2024-12-09T23:30:35.811212Z"
    },
    "papermill": {
     "duration": 0.012844,
     "end_time": "2024-12-09T23:30:35.814569",
     "exception": false,
     "start_time": "2024-12-09T23:30:35.801725",
     "status": "completed"
    },
    "tags": []
   },
   "outputs": [],
   "source": [
    "fileo = open(\"SVR_LOOV_R2s.csv\",'w')\n",
    "fileo.write(out)\n",
    "fileo.close()"
   ]
  },
  {
   "cell_type": "code",
   "execution_count": 7,
   "id": "35246cba",
   "metadata": {
    "execution": {
     "iopub.execute_input": "2024-12-09T23:30:35.823294Z",
     "iopub.status.busy": "2024-12-09T23:30:35.822212Z",
     "iopub.status.idle": "2024-12-09T23:30:36.307853Z",
     "shell.execute_reply": "2024-12-09T23:30:36.306449Z"
    },
    "papermill": {
     "duration": 0.493205,
     "end_time": "2024-12-09T23:30:36.310649",
     "exception": false,
     "start_time": "2024-12-09T23:30:35.817444",
     "status": "completed"
    },
    "tags": []
   },
   "outputs": [
    {
     "data": {
      "image/png": "[encoded data removed]",
      "text/plain": [
       "<Figure size 300x300 with 1 Axes>"
      ]
     },
     "metadata": {},
     "output_type": "display_data"
    }
   ],
   "source": [
    "## Plot Best model performance ##\n",
    "plt.rcParams['font.family'] = \"sans-serif\"\n",
    "plt.rcParams['font.sans-serif'] = \"Arial\"\n",
    "fig, ax = plt.subplots(figsize=(3,3))\n",
    "ax.scatter(y, top_y_pred[bestF], color='mediumvioletred')\n",
    "ax.plot([0,100],[0,100],color='gray')\n",
    "ax.annotate(\"$R^2$ = {:.2f}\".format(top_R2s[bestF]), xy=(10,80),size=15)\n",
    "ax.annotate(\"$C_r$ = {:.0f}\".format(top_C_reg[bestF]), xy=(10,60),size=15)\n",
    "ax.set_ylabel(\"Predicted T80\",fontsize='x-large');\n",
    "ax.set_xlabel(\"Actual T80\",fontsize='x-large');\n",
    "fig.tight_layout()\n",
    "#fig.savefig(\"TopFeaturePerformance_{}.png\".format(bestF))\n",
    "#plt.close()"
   ]
  }
 ],
 "metadata": {
  "kaggle": {
   "accelerator": "none",
   "dataSources": [
    {
     "datasetId": 6267752,
     "sourceId": 10152323,
     "sourceType": "datasetVersion"
    }
   ],
   "dockerImageVersionId": 30804,
   "isGpuEnabled": false,
   "isInternetEnabled": true,
   "language": "python",
   "sourceType": "notebook"
  },
  "kernelspec": {
   "display_name": "Python 3",
   "language": "python",
   "name": "python3"
  },
  "language_info": {
   "codemirror_mode": {
    "name": "ipython",
    "version": 3
   },
   "file_extension": ".py",
   "mimetype": "text/x-python",
   "name": "python",
   "nbconvert_exporter": "python",
   "pygments_lexer": "ipython3",
   "version": "3.10.14"
  },
  "papermill": {
   "default_parameters": {},
   "duration": 8.161824,
   "end_time": "2024-12-09T23:30:37.038379",
   "environment_variables": {},
   "exception": null,
   "input_path": "__notebook__.ipynb",
   "output_path": "__notebook__.ipynb",
   "parameters": {},
   "start_time": "2024-12-09T23:30:28.876555",
   "version": "2.6.0"
  }
 },
 "nbformat": 4,
 "nbformat_minor": 5
}
